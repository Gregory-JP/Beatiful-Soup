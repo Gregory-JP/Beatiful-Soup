{
 "cells": [
  {
   "cell_type": "code",
   "execution_count": 1,
   "id": "5b30c13e",
   "metadata": {},
   "outputs": [],
   "source": [
    "import urllib.request\n",
    "from bs4 import BeautifulSoup\n",
    "import re\n",
    "import pandas as pd"
   ]
  },
  {
   "cell_type": "code",
   "execution_count": 2,
   "id": "a99058ec",
   "metadata": {},
   "outputs": [],
   "source": [
    "# load html\n",
    "\n",
    "page = urllib.request.urlopen('https://docs.python.org/3/library/random.html')"
   ]
  },
  {
   "cell_type": "code",
   "execution_count": 3,
   "id": "2f374174",
   "metadata": {},
   "outputs": [],
   "source": [
    "soup = BeautifulSoup(page)"
   ]
  },
  {
   "cell_type": "code",
   "execution_count": 6,
   "id": "2af53941",
   "metadata": {},
   "outputs": [],
   "source": [
    "names = soup.find_all('dt')"
   ]
  },
  {
   "cell_type": "code",
   "execution_count": 7,
   "id": "09b8b72b",
   "metadata": {
    "collapsed": true
   },
   "outputs": [
    {
     "data": {
      "text/plain": [
       "[<dt id=\"random.seed\">\n",
       " <code class=\"sig-prename descclassname\">random.</code><code class=\"sig-name descname\">seed</code><span class=\"sig-paren\">(</span><em class=\"sig-param\"><span class=\"n\">a</span><span class=\"o\">=</span><span class=\"default_value\">None</span></em>, <em class=\"sig-param\"><span class=\"n\">version</span><span class=\"o\">=</span><span class=\"default_value\">2</span></em><span class=\"sig-paren\">)</span><a class=\"headerlink\" href=\"#random.seed\" title=\"Permalink to this definition\">¶</a></dt>,\n",
       " <dt id=\"random.getstate\">\n",
       " <code class=\"sig-prename descclassname\">random.</code><code class=\"sig-name descname\">getstate</code><span class=\"sig-paren\">(</span><span class=\"sig-paren\">)</span><a class=\"headerlink\" href=\"#random.getstate\" title=\"Permalink to this definition\">¶</a></dt>,\n",
       " <dt id=\"random.setstate\">\n",
       " <code class=\"sig-prename descclassname\">random.</code><code class=\"sig-name descname\">setstate</code><span class=\"sig-paren\">(</span><em class=\"sig-param\"><span class=\"n\">state</span></em><span class=\"sig-paren\">)</span><a class=\"headerlink\" href=\"#random.setstate\" title=\"Permalink to this definition\">¶</a></dt>,\n",
       " <dt id=\"random.randbytes\">\n",
       " <code class=\"sig-prename descclassname\">random.</code><code class=\"sig-name descname\">randbytes</code><span class=\"sig-paren\">(</span><em class=\"sig-param\"><span class=\"n\">n</span></em><span class=\"sig-paren\">)</span><a class=\"headerlink\" href=\"#random.randbytes\" title=\"Permalink to this definition\">¶</a></dt>,\n",
       " <dt id=\"random.randrange\">\n",
       " <code class=\"sig-prename descclassname\">random.</code><code class=\"sig-name descname\">randrange</code><span class=\"sig-paren\">(</span><em class=\"sig-param\"><span class=\"n\">stop</span></em><span class=\"sig-paren\">)</span><a class=\"headerlink\" href=\"#random.randrange\" title=\"Permalink to this definition\">¶</a></dt>,\n",
       " <dt>\n",
       " <code class=\"sig-prename descclassname\">random.</code><code class=\"sig-name descname\">randrange</code><span class=\"sig-paren\">(</span><em class=\"sig-param\">start</em>, <em class=\"sig-param\">stop</em><span class=\"optional\">[</span>, <em class=\"sig-param\">step</em><span class=\"optional\">]</span><span class=\"sig-paren\">)</span></dt>,\n",
       " <dt id=\"random.randint\">\n",
       " <code class=\"sig-prename descclassname\">random.</code><code class=\"sig-name descname\">randint</code><span class=\"sig-paren\">(</span><em class=\"sig-param\"><span class=\"n\">a</span></em>, <em class=\"sig-param\"><span class=\"n\">b</span></em><span class=\"sig-paren\">)</span><a class=\"headerlink\" href=\"#random.randint\" title=\"Permalink to this definition\">¶</a></dt>,\n",
       " <dt id=\"random.getrandbits\">\n",
       " <code class=\"sig-prename descclassname\">random.</code><code class=\"sig-name descname\">getrandbits</code><span class=\"sig-paren\">(</span><em class=\"sig-param\"><span class=\"n\">k</span></em><span class=\"sig-paren\">)</span><a class=\"headerlink\" href=\"#random.getrandbits\" title=\"Permalink to this definition\">¶</a></dt>,\n",
       " <dt id=\"random.choice\">\n",
       " <code class=\"sig-prename descclassname\">random.</code><code class=\"sig-name descname\">choice</code><span class=\"sig-paren\">(</span><em class=\"sig-param\"><span class=\"n\">seq</span></em><span class=\"sig-paren\">)</span><a class=\"headerlink\" href=\"#random.choice\" title=\"Permalink to this definition\">¶</a></dt>,\n",
       " <dt id=\"random.choices\">\n",
       " <code class=\"sig-prename descclassname\">random.</code><code class=\"sig-name descname\">choices</code><span class=\"sig-paren\">(</span><em class=\"sig-param\"><span class=\"n\">population</span></em>, <em class=\"sig-param\"><span class=\"n\">weights</span><span class=\"o\">=</span><span class=\"default_value\">None</span></em>, <em class=\"sig-param\"><span class=\"o\">*</span></em>, <em class=\"sig-param\"><span class=\"n\">cum_weights</span><span class=\"o\">=</span><span class=\"default_value\">None</span></em>, <em class=\"sig-param\"><span class=\"n\">k</span><span class=\"o\">=</span><span class=\"default_value\">1</span></em><span class=\"sig-paren\">)</span><a class=\"headerlink\" href=\"#random.choices\" title=\"Permalink to this definition\">¶</a></dt>,\n",
       " <dt id=\"random.shuffle\">\n",
       " <code class=\"sig-prename descclassname\">random.</code><code class=\"sig-name descname\">shuffle</code><span class=\"sig-paren\">(</span><em class=\"sig-param\">x</em><span class=\"optional\">[</span>, <em class=\"sig-param\">random</em><span class=\"optional\">]</span><span class=\"sig-paren\">)</span><a class=\"headerlink\" href=\"#random.shuffle\" title=\"Permalink to this definition\">¶</a></dt>,\n",
       " <dt id=\"random.sample\">\n",
       " <code class=\"sig-prename descclassname\">random.</code><code class=\"sig-name descname\">sample</code><span class=\"sig-paren\">(</span><em class=\"sig-param\"><span class=\"n\">population</span></em>, <em class=\"sig-param\"><span class=\"n\">k</span></em>, <em class=\"sig-param\"><span class=\"o\">*</span></em>, <em class=\"sig-param\"><span class=\"n\">counts</span><span class=\"o\">=</span><span class=\"default_value\">None</span></em><span class=\"sig-paren\">)</span><a class=\"headerlink\" href=\"#random.sample\" title=\"Permalink to this definition\">¶</a></dt>,\n",
       " <dt id=\"random.random\">\n",
       " <code class=\"sig-prename descclassname\">random.</code><code class=\"sig-name descname\">random</code><span class=\"sig-paren\">(</span><span class=\"sig-paren\">)</span><a class=\"headerlink\" href=\"#random.random\" title=\"Permalink to this definition\">¶</a></dt>,\n",
       " <dt id=\"random.uniform\">\n",
       " <code class=\"sig-prename descclassname\">random.</code><code class=\"sig-name descname\">uniform</code><span class=\"sig-paren\">(</span><em class=\"sig-param\"><span class=\"n\">a</span></em>, <em class=\"sig-param\"><span class=\"n\">b</span></em><span class=\"sig-paren\">)</span><a class=\"headerlink\" href=\"#random.uniform\" title=\"Permalink to this definition\">¶</a></dt>,\n",
       " <dt id=\"random.triangular\">\n",
       " <code class=\"sig-prename descclassname\">random.</code><code class=\"sig-name descname\">triangular</code><span class=\"sig-paren\">(</span><em class=\"sig-param\"><span class=\"n\">low</span></em>, <em class=\"sig-param\"><span class=\"n\">high</span></em>, <em class=\"sig-param\"><span class=\"n\">mode</span></em><span class=\"sig-paren\">)</span><a class=\"headerlink\" href=\"#random.triangular\" title=\"Permalink to this definition\">¶</a></dt>,\n",
       " <dt id=\"random.betavariate\">\n",
       " <code class=\"sig-prename descclassname\">random.</code><code class=\"sig-name descname\">betavariate</code><span class=\"sig-paren\">(</span><em class=\"sig-param\"><span class=\"n\">alpha</span></em>, <em class=\"sig-param\"><span class=\"n\">beta</span></em><span class=\"sig-paren\">)</span><a class=\"headerlink\" href=\"#random.betavariate\" title=\"Permalink to this definition\">¶</a></dt>,\n",
       " <dt id=\"random.expovariate\">\n",
       " <code class=\"sig-prename descclassname\">random.</code><code class=\"sig-name descname\">expovariate</code><span class=\"sig-paren\">(</span><em class=\"sig-param\"><span class=\"n\">lambd</span></em><span class=\"sig-paren\">)</span><a class=\"headerlink\" href=\"#random.expovariate\" title=\"Permalink to this definition\">¶</a></dt>,\n",
       " <dt id=\"random.gammavariate\">\n",
       " <code class=\"sig-prename descclassname\">random.</code><code class=\"sig-name descname\">gammavariate</code><span class=\"sig-paren\">(</span><em class=\"sig-param\"><span class=\"n\">alpha</span></em>, <em class=\"sig-param\"><span class=\"n\">beta</span></em><span class=\"sig-paren\">)</span><a class=\"headerlink\" href=\"#random.gammavariate\" title=\"Permalink to this definition\">¶</a></dt>,\n",
       " <dt id=\"random.gauss\">\n",
       " <code class=\"sig-prename descclassname\">random.</code><code class=\"sig-name descname\">gauss</code><span class=\"sig-paren\">(</span><em class=\"sig-param\"><span class=\"n\">mu</span></em>, <em class=\"sig-param\"><span class=\"n\">sigma</span></em><span class=\"sig-paren\">)</span><a class=\"headerlink\" href=\"#random.gauss\" title=\"Permalink to this definition\">¶</a></dt>,\n",
       " <dt id=\"random.lognormvariate\">\n",
       " <code class=\"sig-prename descclassname\">random.</code><code class=\"sig-name descname\">lognormvariate</code><span class=\"sig-paren\">(</span><em class=\"sig-param\"><span class=\"n\">mu</span></em>, <em class=\"sig-param\"><span class=\"n\">sigma</span></em><span class=\"sig-paren\">)</span><a class=\"headerlink\" href=\"#random.lognormvariate\" title=\"Permalink to this definition\">¶</a></dt>,\n",
       " <dt id=\"random.normalvariate\">\n",
       " <code class=\"sig-prename descclassname\">random.</code><code class=\"sig-name descname\">normalvariate</code><span class=\"sig-paren\">(</span><em class=\"sig-param\"><span class=\"n\">mu</span></em>, <em class=\"sig-param\"><span class=\"n\">sigma</span></em><span class=\"sig-paren\">)</span><a class=\"headerlink\" href=\"#random.normalvariate\" title=\"Permalink to this definition\">¶</a></dt>,\n",
       " <dt id=\"random.vonmisesvariate\">\n",
       " <code class=\"sig-prename descclassname\">random.</code><code class=\"sig-name descname\">vonmisesvariate</code><span class=\"sig-paren\">(</span><em class=\"sig-param\"><span class=\"n\">mu</span></em>, <em class=\"sig-param\"><span class=\"n\">kappa</span></em><span class=\"sig-paren\">)</span><a class=\"headerlink\" href=\"#random.vonmisesvariate\" title=\"Permalink to this definition\">¶</a></dt>,\n",
       " <dt id=\"random.paretovariate\">\n",
       " <code class=\"sig-prename descclassname\">random.</code><code class=\"sig-name descname\">paretovariate</code><span class=\"sig-paren\">(</span><em class=\"sig-param\"><span class=\"n\">alpha</span></em><span class=\"sig-paren\">)</span><a class=\"headerlink\" href=\"#random.paretovariate\" title=\"Permalink to this definition\">¶</a></dt>,\n",
       " <dt id=\"random.weibullvariate\">\n",
       " <code class=\"sig-prename descclassname\">random.</code><code class=\"sig-name descname\">weibullvariate</code><span class=\"sig-paren\">(</span><em class=\"sig-param\"><span class=\"n\">alpha</span></em>, <em class=\"sig-param\"><span class=\"n\">beta</span></em><span class=\"sig-paren\">)</span><a class=\"headerlink\" href=\"#random.weibullvariate\" title=\"Permalink to this definition\">¶</a></dt>,\n",
       " <dt id=\"random.Random\">\n",
       " <em class=\"property\">class </em><code class=\"sig-prename descclassname\">random.</code><code class=\"sig-name descname\">Random</code><span class=\"sig-paren\">(</span><span class=\"optional\">[</span><em class=\"sig-param\">seed</em><span class=\"optional\">]</span><span class=\"sig-paren\">)</span><a class=\"headerlink\" href=\"#random.Random\" title=\"Permalink to this definition\">¶</a></dt>,\n",
       " <dt id=\"random.SystemRandom\">\n",
       " <em class=\"property\">class </em><code class=\"sig-prename descclassname\">random.</code><code class=\"sig-name descname\">SystemRandom</code><span class=\"sig-paren\">(</span><span class=\"optional\">[</span><em class=\"sig-param\">seed</em><span class=\"optional\">]</span><span class=\"sig-paren\">)</span><a class=\"headerlink\" href=\"#random.SystemRandom\" title=\"Permalink to this definition\">¶</a></dt>]"
      ]
     },
     "execution_count": 7,
     "metadata": {},
     "output_type": "execute_result"
    }
   ],
   "source": [
    "names"
   ]
  },
  {
   "cell_type": "code",
   "execution_count": 15,
   "id": "5db8cb66",
   "metadata": {},
   "outputs": [],
   "source": [
    "function_names = re.findall('id=\"random.\\w+', str(names))\n",
    "\n",
    "function_names = [item[4:] for item in function_names]"
   ]
  },
  {
   "cell_type": "code",
   "execution_count": 16,
   "id": "b008af49",
   "metadata": {
    "collapsed": true
   },
   "outputs": [
    {
     "name": "stdout",
     "output_type": "stream",
     "text": [
      "['random.seed', 'random.getstate', 'random.setstate', 'random.randbytes', 'random.randrange', 'random.randint', 'random.getrandbits', 'random.choice', 'random.choices', 'random.shuffle', 'random.sample', 'random.random', 'random.uniform', 'random.triangular', 'random.betavariate', 'random.expovariate', 'random.gammavariate', 'random.gauss', 'random.lognormvariate', 'random.normalvariate', 'random.vonmisesvariate', 'random.paretovariate', 'random.weibullvariate', 'random.Random', 'random.SystemRandom']\n"
     ]
    }
   ],
   "source": [
    "print(function_names)"
   ]
  },
  {
   "cell_type": "code",
   "execution_count": 24,
   "id": "a6c814ba",
   "metadata": {},
   "outputs": [],
   "source": [
    "description = soup.find_all('dd')"
   ]
  },
  {
   "cell_type": "code",
   "execution_count": 25,
   "id": "2030e1aa",
   "metadata": {},
   "outputs": [],
   "source": [
    "function_usage = []\n",
    "\n",
    "for item in description:\n",
    "    item = item.text\n",
    "    item = item.replace('\\n', '')\n",
    "    function_usage.append(item)"
   ]
  },
  {
   "cell_type": "code",
   "execution_count": 26,
   "id": "e3a83afe",
   "metadata": {
    "collapsed": true
   },
   "outputs": [
    {
     "data": {
      "text/plain": [
       "['Initialize the random number generator.If a is omitted or None, the current system time is used.  Ifrandomness sources are provided by the operating system, they are usedinstead of the system time (see the os.urandom() function for detailson availability).If a is an int, it is used directly.With version 2 (the default), a str, bytes, or bytearrayobject gets converted to an int and all of its bits are used.With version 1 (provided for reproducing random sequences from older versionsof Python), the algorithm for str and bytes generates anarrower range of seeds.Changed in version 3.2: Moved to the version 2 scheme which uses all of the bits in a string seed.Deprecated since version 3.9: In the future, the seed must be one of the following types:NoneType, int, float, str,bytes, or bytearray.',\n",
       " 'Return an object capturing the current internal state of the generator.  Thisobject can be passed to setstate() to restore the state.',\n",
       " 'state should have been obtained from a previous call to getstate(), andsetstate() restores the internal state of the generator to what it was atthe time getstate() was called.',\n",
       " 'Generate n random bytes.This method should not be used for generating security tokens.Use secrets.token_bytes() instead.New in version 3.9.',\n",
       " \"Return a randomly selected element from range(start, stop, step).  This isequivalent to choice(range(start, stop, step)), but doesn’t actually build arange object.The positional argument pattern matches that of range().  Keyword argumentsshould not be used because the function may use them in unexpected ways.Changed in version 3.2: randrange() is more sophisticated about producing equally distributedvalues.  Formerly it used a style like int(random()*n) which could produceslightly uneven distributions.Deprecated since version 3.10: The automatic conversion of non-integer types to equivalent integers isdeprecated.  Currently randrange(10.0) is losslessly converted torandrange(10).  In the future, this will raise a TypeError.Deprecated since version 3.10: The exception raised for non-integral values such as randrange(10.5)or randrange('10') will be changed from ValueError toTypeError.\",\n",
       " 'Return a random integer N such that a <= N <= b.  Alias forrandrange(a, b+1).',\n",
       " 'Returns a non-negative Python integer with k random bits. This methodis supplied with the MersenneTwister generator and some other generatorsmay also provide it as an optional part of the API. When available,getrandbits() enables randrange() to handle arbitrarily largeranges.Changed in version 3.9: This method now accepts zero for k.',\n",
       " 'Return a random element from the non-empty sequence seq. If seq is empty,raises IndexError.',\n",
       " 'Return a k sized list of elements chosen from the population with replacement.If the population is empty, raises IndexError.If a weights sequence is specified, selections are made according to therelative weights.  Alternatively, if a cum_weights sequence is given, theselections are made according to the cumulative weights (perhaps computedusing itertools.accumulate()).  For example, the relative weights[10, 5, 30, 5] are equivalent to the cumulative weights[10, 15, 45, 50].  Internally, the relative weights are converted tocumulative weights before making selections, so supplying the cumulativeweights saves work.If neither weights nor cum_weights are specified, selections are madewith equal probability.  If a weights sequence is supplied, it must bethe same length as the population sequence.  It is a TypeErrorto specify both weights and cum_weights.The weights or cum_weights can use any numeric type that interoperateswith the float values returned by random() (that includesintegers, floats, and fractions but excludes decimals).  Weights are assumedto be non-negative and finite.  A ValueError is raised if allweights are zero.For a given seed, the choices() function with equal weightingtypically produces a different sequence than repeated calls tochoice().  The algorithm used by choices() uses floatingpoint arithmetic for internal consistency and speed.  The algorithm usedby choice() defaults to integer arithmetic with repeated selectionsto avoid small biases from round-off error.New in version 3.6.Changed in version 3.9: Raises a ValueError if all weights are zero.',\n",
       " 'Shuffle the sequence x in place.The optional argument random is a 0-argument function returning a randomfloat in [0.0, 1.0); by default, this is the function random().To shuffle an immutable sequence and return a new shuffled list, usesample(x, k=len(x)) instead.Note that even for small len(x), the total number of permutations of xcan quickly grow larger than the period of most random number generators.This implies that most permutations of a long sequence can never begenerated.  For example, a sequence of length 2080 is the largest thatcan fit within the period of the Mersenne Twister random number generator.Deprecated since version 3.9, will be removed in version 3.11: The optional parameter random.',\n",
       " \"Return a k length list of unique elements chosen from the population sequenceor set. Used for random sampling without replacement.Returns a new list containing elements from the population while leaving theoriginal population unchanged.  The resulting list is in selection order so thatall sub-slices will also be valid random samples.  This allows raffle winners(the sample) to be partitioned into grand prize and second place winners (thesubslices).Members of the population need not be hashable or unique.  If the populationcontains repeats, then each occurrence is a possible selection in the sample.Repeated elements can be specified one at a time or with the optionalkeyword-only counts parameter.  For example, sample(['red', 'blue'],counts=[4, 2], k=5) is equivalent to sample(['red', 'red', 'red', 'red','blue', 'blue'], k=5).To choose a sample from a range of integers, use a range() object as anargument.  This is especially fast and space efficient for sampling from a largepopulation:  sample(range(10000000), k=60).If the sample size is larger than the population size, a ValueErroris raised.Changed in version 3.9: Added the counts parameter.Deprecated since version 3.9: In the future, the population must be a sequence.  Instances ofset are no longer supported.  The set must first be convertedto a list or tuple, preferably in a deterministicorder so that the sample is reproducible.\",\n",
       " 'Return the next random floating point number in the range [0.0, 1.0).',\n",
       " 'Return a random floating point number N such that a <= N <= b fora <= b and b <= N <= a for b < a.The end-point value b may or may not be included in the rangedepending on floating-point rounding in the equation a + (b-a) * random().',\n",
       " 'Return a random floating point number N such that low <= N <= high andwith the specified mode between those bounds.  The low and high boundsdefault to zero and one.  The mode argument defaults to the midpointbetween the bounds, giving a symmetric distribution.',\n",
       " 'Beta distribution.  Conditions on the parameters are alpha > 0 andbeta > 0. Returned values range between 0 and 1.',\n",
       " 'Exponential distribution.  lambd is 1.0 divided by the desiredmean.  It should be nonzero.  (The parameter would be called“lambda”, but that is a reserved word in Python.)  Returned valuesrange from 0 to positive infinity if lambd is positive, and fromnegative infinity to 0 if lambd is negative.',\n",
       " 'Gamma distribution.  (Not the gamma function!)  Conditions on theparameters are alpha > 0 and beta > 0.The probability distribution function is:          x ** (alpha - 1) * math.exp(-x / beta)pdf(x) =  --------------------------------------            math.gamma(alpha) * beta ** alpha',\n",
       " 'Normal distribution, also called the Gaussian distribution.  mu is the mean,and sigma is the standard deviation.  This is slightly faster thanthe normalvariate() function defined below.Multithreading note:  When two threads call this functionsimultaneously, it is possible that they will receive thesame return value.  This can be avoided in three ways.1) Have each thread use a different instance of the randomnumber generator. 2) Put locks around all calls. 3) Use theslower, but thread-safe normalvariate() function instead.',\n",
       " 'Log normal distribution.  If you take the natural logarithm of thisdistribution, you’ll get a normal distribution with mean mu and standarddeviation sigma.  mu can have any value, and sigma must be greater thanzero.',\n",
       " 'Normal distribution.  mu is the mean, and sigma is the standard deviation.',\n",
       " 'mu is the mean angle, expressed in radians between 0 and 2*pi, and kappais the concentration parameter, which must be greater than or equal to zero.  Ifkappa is equal to zero, this distribution reduces to a uniform random angleover the range 0 to 2*pi.',\n",
       " 'Pareto distribution.  alpha is the shape parameter.',\n",
       " 'Weibull distribution.  alpha is the scale parameter and beta is the shapeparameter.',\n",
       " 'Class that implements the default pseudo-random number generator used by therandom module.Deprecated since version 3.9: In the future, the seed must be one of the following types:NoneType, int, float, str,bytes, or bytearray.',\n",
       " 'Class that uses the os.urandom() function for generating random numbersfrom sources provided by the operating system. Not available on all systems.Does not rely on software state, and sequences are not reproducible. Accordingly,the seed() method has no effect and is ignored.The getstate() and setstate() methods raiseNotImplementedError if called.']"
      ]
     },
     "execution_count": 26,
     "metadata": {},
     "output_type": "execute_result"
    }
   ],
   "source": [
    "function_usage"
   ]
  },
  {
   "cell_type": "code",
   "execution_count": 27,
   "id": "a74fa4da",
   "metadata": {},
   "outputs": [],
   "source": [
    "data = pd.DataFrame({'Function Name': function_names, 'Function Usage': function_usage})"
   ]
  },
  {
   "cell_type": "code",
   "execution_count": 28,
   "id": "b4433947",
   "metadata": {
    "collapsed": true
   },
   "outputs": [
    {
     "data": {
      "text/html": [
       "<div>\n",
       "<style scoped>\n",
       "    .dataframe tbody tr th:only-of-type {\n",
       "        vertical-align: middle;\n",
       "    }\n",
       "\n",
       "    .dataframe tbody tr th {\n",
       "        vertical-align: top;\n",
       "    }\n",
       "\n",
       "    .dataframe thead th {\n",
       "        text-align: right;\n",
       "    }\n",
       "</style>\n",
       "<table border=\"1\" class=\"dataframe\">\n",
       "  <thead>\n",
       "    <tr style=\"text-align: right;\">\n",
       "      <th></th>\n",
       "      <th>Function Name</th>\n",
       "      <th>Function Usage</th>\n",
       "    </tr>\n",
       "  </thead>\n",
       "  <tbody>\n",
       "    <tr>\n",
       "      <th>0</th>\n",
       "      <td>random.seed</td>\n",
       "      <td>Initialize the random number generator.If a is...</td>\n",
       "    </tr>\n",
       "    <tr>\n",
       "      <th>1</th>\n",
       "      <td>random.getstate</td>\n",
       "      <td>Return an object capturing the current interna...</td>\n",
       "    </tr>\n",
       "    <tr>\n",
       "      <th>2</th>\n",
       "      <td>random.setstate</td>\n",
       "      <td>state should have been obtained from a previou...</td>\n",
       "    </tr>\n",
       "    <tr>\n",
       "      <th>3</th>\n",
       "      <td>random.randbytes</td>\n",
       "      <td>Generate n random bytes.This method should not...</td>\n",
       "    </tr>\n",
       "    <tr>\n",
       "      <th>4</th>\n",
       "      <td>random.randrange</td>\n",
       "      <td>Return a randomly selected element from range(...</td>\n",
       "    </tr>\n",
       "    <tr>\n",
       "      <th>5</th>\n",
       "      <td>random.randint</td>\n",
       "      <td>Return a random integer N such that a &lt;= N &lt;= ...</td>\n",
       "    </tr>\n",
       "    <tr>\n",
       "      <th>6</th>\n",
       "      <td>random.getrandbits</td>\n",
       "      <td>Returns a non-negative Python integer with k r...</td>\n",
       "    </tr>\n",
       "    <tr>\n",
       "      <th>7</th>\n",
       "      <td>random.choice</td>\n",
       "      <td>Return a random element from the non-empty seq...</td>\n",
       "    </tr>\n",
       "    <tr>\n",
       "      <th>8</th>\n",
       "      <td>random.choices</td>\n",
       "      <td>Return a k sized list of elements chosen from ...</td>\n",
       "    </tr>\n",
       "    <tr>\n",
       "      <th>9</th>\n",
       "      <td>random.shuffle</td>\n",
       "      <td>Shuffle the sequence x in place.The optional a...</td>\n",
       "    </tr>\n",
       "    <tr>\n",
       "      <th>10</th>\n",
       "      <td>random.sample</td>\n",
       "      <td>Return a k length list of unique elements chos...</td>\n",
       "    </tr>\n",
       "    <tr>\n",
       "      <th>11</th>\n",
       "      <td>random.random</td>\n",
       "      <td>Return the next random floating point number i...</td>\n",
       "    </tr>\n",
       "    <tr>\n",
       "      <th>12</th>\n",
       "      <td>random.uniform</td>\n",
       "      <td>Return a random floating point number N such t...</td>\n",
       "    </tr>\n",
       "    <tr>\n",
       "      <th>13</th>\n",
       "      <td>random.triangular</td>\n",
       "      <td>Return a random floating point number N such t...</td>\n",
       "    </tr>\n",
       "    <tr>\n",
       "      <th>14</th>\n",
       "      <td>random.betavariate</td>\n",
       "      <td>Beta distribution.  Conditions on the paramete...</td>\n",
       "    </tr>\n",
       "    <tr>\n",
       "      <th>15</th>\n",
       "      <td>random.expovariate</td>\n",
       "      <td>Exponential distribution.  lambd is 1.0 divide...</td>\n",
       "    </tr>\n",
       "    <tr>\n",
       "      <th>16</th>\n",
       "      <td>random.gammavariate</td>\n",
       "      <td>Gamma distribution.  (Not the gamma function!)...</td>\n",
       "    </tr>\n",
       "    <tr>\n",
       "      <th>17</th>\n",
       "      <td>random.gauss</td>\n",
       "      <td>Normal distribution, also called the Gaussian ...</td>\n",
       "    </tr>\n",
       "    <tr>\n",
       "      <th>18</th>\n",
       "      <td>random.lognormvariate</td>\n",
       "      <td>Log normal distribution.  If you take the natu...</td>\n",
       "    </tr>\n",
       "    <tr>\n",
       "      <th>19</th>\n",
       "      <td>random.normalvariate</td>\n",
       "      <td>Normal distribution.  mu is the mean, and sigm...</td>\n",
       "    </tr>\n",
       "    <tr>\n",
       "      <th>20</th>\n",
       "      <td>random.vonmisesvariate</td>\n",
       "      <td>mu is the mean angle, expressed in radians bet...</td>\n",
       "    </tr>\n",
       "    <tr>\n",
       "      <th>21</th>\n",
       "      <td>random.paretovariate</td>\n",
       "      <td>Pareto distribution.  alpha is the shape param...</td>\n",
       "    </tr>\n",
       "    <tr>\n",
       "      <th>22</th>\n",
       "      <td>random.weibullvariate</td>\n",
       "      <td>Weibull distribution.  alpha is the scale para...</td>\n",
       "    </tr>\n",
       "    <tr>\n",
       "      <th>23</th>\n",
       "      <td>random.Random</td>\n",
       "      <td>Class that implements the default pseudo-rando...</td>\n",
       "    </tr>\n",
       "    <tr>\n",
       "      <th>24</th>\n",
       "      <td>random.SystemRandom</td>\n",
       "      <td>Class that uses the os.urandom() function for ...</td>\n",
       "    </tr>\n",
       "  </tbody>\n",
       "</table>\n",
       "</div>"
      ],
      "text/plain": [
       "             Function Name                                     Function Usage\n",
       "0              random.seed  Initialize the random number generator.If a is...\n",
       "1          random.getstate  Return an object capturing the current interna...\n",
       "2          random.setstate  state should have been obtained from a previou...\n",
       "3         random.randbytes  Generate n random bytes.This method should not...\n",
       "4         random.randrange  Return a randomly selected element from range(...\n",
       "5           random.randint  Return a random integer N such that a <= N <= ...\n",
       "6       random.getrandbits  Returns a non-negative Python integer with k r...\n",
       "7            random.choice  Return a random element from the non-empty seq...\n",
       "8           random.choices  Return a k sized list of elements chosen from ...\n",
       "9           random.shuffle  Shuffle the sequence x in place.The optional a...\n",
       "10           random.sample  Return a k length list of unique elements chos...\n",
       "11           random.random  Return the next random floating point number i...\n",
       "12          random.uniform  Return a random floating point number N such t...\n",
       "13       random.triangular  Return a random floating point number N such t...\n",
       "14      random.betavariate  Beta distribution.  Conditions on the paramete...\n",
       "15      random.expovariate  Exponential distribution.  lambd is 1.0 divide...\n",
       "16     random.gammavariate  Gamma distribution.  (Not the gamma function!)...\n",
       "17            random.gauss  Normal distribution, also called the Gaussian ...\n",
       "18   random.lognormvariate  Log normal distribution.  If you take the natu...\n",
       "19    random.normalvariate  Normal distribution.  mu is the mean, and sigm...\n",
       "20  random.vonmisesvariate  mu is the mean angle, expressed in radians bet...\n",
       "21    random.paretovariate  Pareto distribution.  alpha is the shape param...\n",
       "22   random.weibullvariate  Weibull distribution.  alpha is the scale para...\n",
       "23           random.Random  Class that implements the default pseudo-rando...\n",
       "24     random.SystemRandom  Class that uses the os.urandom() function for ..."
      ]
     },
     "execution_count": 28,
     "metadata": {},
     "output_type": "execute_result"
    }
   ],
   "source": [
    "data"
   ]
  },
  {
   "cell_type": "code",
   "execution_count": 32,
   "id": "5fa8d071",
   "metadata": {},
   "outputs": [],
   "source": [
    "# salvando a variavel data em um csv\n",
    "data.to_csv('random_documentation')"
   ]
  },
  {
   "cell_type": "code",
   "execution_count": null,
   "id": "684681a5",
   "metadata": {},
   "outputs": [],
   "source": []
  }
 ],
 "metadata": {
  "kernelspec": {
   "display_name": "Python 3 (ipykernel)",
   "language": "python",
   "name": "python3"
  },
  "language_info": {
   "codemirror_mode": {
    "name": "ipython",
    "version": 3
   },
   "file_extension": ".py",
   "mimetype": "text/x-python",
   "name": "python",
   "nbconvert_exporter": "python",
   "pygments_lexer": "ipython3",
   "version": "3.9.7"
  }
 },
 "nbformat": 4,
 "nbformat_minor": 5
}
